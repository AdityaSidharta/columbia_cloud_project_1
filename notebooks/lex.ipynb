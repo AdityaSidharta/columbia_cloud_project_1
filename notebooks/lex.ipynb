{
 "cells": [
  {
   "cell_type": "code",
   "execution_count": 1,
   "id": "9d3904d8",
   "metadata": {},
   "outputs": [
    {
     "name": "stderr",
     "output_type": "stream",
     "text": [
      "/home/aditya/.pyenv/versions/cloud/lib/python3.6/site-packages/boto3/compat.py:88: PythonDeprecationWarning: Boto3 will no longer support Python 3.6 starting May 30, 2022. To continue receiving service updates, bug fixes, and security updates please upgrade to Python 3.7 or later. More information can be found here: https://aws.amazon.com/blogs/developer/python-support-policy-updates-for-aws-sdks-and-tools/\n",
      "  warnings.warn(warning, PythonDeprecationWarning)\n"
     ]
    }
   ],
   "source": [
    "import boto3\n",
    "import uuid\n",
    "import datetime\n",
    "\n",
    "client = boto3.client('lexv2-runtime')"
   ]
  },
  {
   "cell_type": "code",
   "execution_count": 8,
   "id": "18f98746",
   "metadata": {},
   "outputs": [],
   "source": [
    "response = client.recognize_text(\n",
    "        botId='4MWEOFDHPK',\n",
    "        botAliasId='XQHOMXFVAA',\n",
    "        localeId='en_US',\n",
    "        sessionId='testuser',\n",
    "        text=\"Can I get recommendation restaurant?\")"
   ]
  },
  {
   "cell_type": "code",
   "execution_count": 10,
   "id": "aaadc902",
   "metadata": {},
   "outputs": [],
   "source": [
    "response = client.recognize_text(\n",
    "        botId='4MWEOFDHPK',\n",
    "        botAliasId='XQHOMXFVAA',\n",
    "        localeId='en_US',\n",
    "        sessionId='testuser',\n",
    "        text=\"Manhattan\")"
   ]
  },
  {
   "cell_type": "code",
   "execution_count": 24,
   "id": "534d0f2b",
   "metadata": {},
   "outputs": [],
   "source": [
    "response = client.recognize_text(\n",
    "        botId='4MWEOFDHPK',\n",
    "        botAliasId='XQHOMXFVAA',\n",
    "        localeId='en_US',\n",
    "        sessionId='testuser',\n",
    "        text=\"yes\")"
   ]
  },
  {
   "cell_type": "code",
   "execution_count": 82,
   "id": "aa6226b3",
   "metadata": {},
   "outputs": [],
   "source": [
    "import boto3\n",
    "import uuid\n",
    "import datetime\n",
    "\n",
    "client = boto3.client('lexv2-runtime')\n",
    "botID = '4MWEOFDHPK'\n",
    "botAliasID = 'XQHOMXFVAA'\n",
    "sessionID = 'testuser'\n",
    "localeID = 'en_US'\n",
    "\n",
    "\n",
    "def lambda_handler(event, context):\n",
    "    incoming_msgs = event['messages']\n",
    "    assert len(incoming_msgs) == 1\n",
    "    incoming_msg = incoming_msgs[0]\n",
    "    print(\"incoming_msg : {}\".format(incoming_msg))\n",
    "    incoming_msg_content = incoming_msg['unstructured']['text']\n",
    "    \n",
    "    # Initiate conversation with Lex\n",
    "    response = client.recognize_text(\n",
    "            botId=botID,\n",
    "            botAliasId=botAliasID,\n",
    "            localeId=localeID,\n",
    "            sessionId=sessionID,\n",
    "            text=incoming_msg_content)\n",
    "    \n",
    "    outgoing_msgs = response['messages']\n",
    "    session_intent = response['sessionState']['intent']\n",
    "    \n",
    "    if (session_intent['name'] == 'DiningSuggestionsIntent') & (session_intent['state'] == 'ReadyForFulfillment') & (session_intent['confirmationState'] == 'Confirmed'):\n",
    "        print({k: v['value']['interpretedValue'] for k, v in slots.items()})\n",
    "    \n",
    "    if len(outgoing_msgs):\n",
    "        msgs = []\n",
    "        for outgoing_msg in outgoing_msgs:\n",
    "            print(\"outgoing_msg : {}\".format(outgoing_msg))\n",
    "            outgoing_msg_content = outgoing_msg['content']\n",
    "            msgs.append({\n",
    "                    \"type\": \"unstructured\",\n",
    "                    \"unstructured\": {\n",
    "                    \"id\": str(uuid.uuid4()),\n",
    "                    \"text\": outgoing_msg_content,\n",
    "                    \"timestamp\": datetime.datetime.isoformat(datetime.datetime.now()),\n",
    "                    }\n",
    "                })\n",
    "        return {\n",
    "                \"messages\": msgs\n",
    "            }\n",
    "    else:\n",
    "        raise ValueError(\"Lex has Failed\")"
   ]
  },
  {
   "cell_type": "code",
   "execution_count": 75,
   "id": "3ecf4910",
   "metadata": {},
   "outputs": [
    {
     "name": "stdout",
     "output_type": "stream",
     "text": [
      "incoming_msg : {'type': 'string', 'unstructured': {'id': '1', 'text': 'yup', 'timestamp': '2017-06-29T11:00:00+00:00'}}\n",
      "incoming_msg_content : yup\n",
      "slots : {'Cuisine': {'value': {'originalValue': 'chinese', 'interpretedValue': 'chinese', 'resolvedValues': ['chinese']}}, 'Date': {'value': {'originalValue': 'today', 'interpretedValue': '2022-10-05', 'resolvedValues': ['2022-10-05']}}, 'Email': {'value': {'originalValue': 'aditya.sdrt@gmail.com', 'interpretedValue': 'aditya.sdrt@gmail.com', 'resolvedValues': ['aditya.sdrt@gmail.com']}}, 'Location': {'value': {'originalValue': 'manhattan', 'interpretedValue': 'manhattan', 'resolvedValues': ['manhattan']}}, 'PeopleNumber': {'value': {'originalValue': '3', 'interpretedValue': '3', 'resolvedValues': ['3']}}, 'PhoneNum': {'value': {'originalValue': '1234142431', 'interpretedValue': '1234142431', 'resolvedValues': ['1234142431']}}, 'Time': {'value': {'originalValue': 'noon', 'interpretedValue': '12:00', 'resolvedValues': ['12:00']}}}\n",
      "outgoing_msg : {'content': 'Your request has been completed. Please look forward to receiving email from us.', 'contentType': 'PlainText'}\n"
     ]
    },
    {
     "data": {
      "text/plain": [
       "{'messages': [{'type': 'unstructured',\n",
       "   'unstructured': {'id': 'e34d7c0c-3d70-4e78-9a18-338153d360f3',\n",
       "    'text': 'Your request has been completed. Please look forward to receiving email from us.',\n",
       "    'timestamp': '2022-10-05T22:36:06.722805'}}]}"
      ]
     },
     "execution_count": 75,
     "metadata": {},
     "output_type": "execute_result"
    }
   ],
   "source": [
    "lambda_handler({\n",
    "  \"messages\": [\n",
    "    {\n",
    "      \"type\": \"string\",\n",
    "      \"unstructured\": {\n",
    "        \"id\": \"1\",\n",
    "        \"text\": \"yup\",\n",
    "        \"timestamp\": \"2017-06-29T11:00:00+00:00\"\n",
    "      }\n",
    "    }\n",
    "  ]\n",
    "}, \"\")"
   ]
  },
  {
   "cell_type": "code",
   "execution_count": 78,
   "id": "7b12e676",
   "metadata": {},
   "outputs": [],
   "source": [
    "slots = {'Cuisine': {'value': {'originalValue': 'chinese', 'interpretedValue': 'chinese', 'resolvedValues': ['chinese']}}, 'Date': {'value': {'originalValue': 'today', 'interpretedValue': '2022-10-05', 'resolvedValues': ['2022-10-05']}}, 'Email': {'value': {'originalValue': 'aditya.sdrt@gmail.com', 'interpretedValue': 'aditya.sdrt@gmail.com', 'resolvedValues': ['aditya.sdrt@gmail.com']}}, 'Location': {'value': {'originalValue': 'manhattan', 'interpretedValue': 'manhattan', 'resolvedValues': ['manhattan']}}, 'PeopleNumber': {'value': {'originalValue': '3', 'interpretedValue': '3', 'resolvedValues': ['3']}}, 'PhoneNum': {'value': {'originalValue': '1234142431', 'interpretedValue': '1234142431', 'resolvedValues': ['1234142431']}}, 'Time': {'value': {'originalValue': 'noon', 'interpretedValue': '12:00', 'resolvedValues': ['12:00']}}}"
   ]
  },
  {
   "cell_type": "code",
   "execution_count": 84,
   "id": "7d635dc3",
   "metadata": {},
   "outputs": [],
   "source": [
    "sqs = boto3.client('sqs')\n",
    "queue_url = 'https://sqs.us-east-1.amazonaws.com/139100004146/Proj1SQS'"
   ]
  },
  {
   "cell_type": "code",
   "execution_count": null,
   "id": "8ca673fc",
   "metadata": {},
   "outputs": [],
   "source": [
    "{'Cuisine': 'chinese',\n",
    " 'Date': '2022-10-05',\n",
    " 'Email': 'aditya.sdrt@gmail.com',\n",
    " 'Location': 'manhattan',\n",
    " 'PeopleNumber': '3',\n",
    " 'PhoneNum': '1234142431',\n",
    " 'Time': '12:00'}"
   ]
  },
  {
   "cell_type": "code",
   "execution_count": 86,
   "id": "14708e84",
   "metadata": {},
   "outputs": [],
   "source": [
    "response = sqs.send_message(\n",
    "    QueueUrl=queue_url,\n",
    "    DelaySeconds=10,\n",
    "    MessageAttributes={\n",
    "        'Cuisine': {\n",
    "            'DataType': 'String',\n",
    "            'StringValue': 'chinese'\n",
    "        },\n",
    "        'Date': {\n",
    "            'DataType': 'String',\n",
    "            'StringValue': '2022-10-05'\n",
    "        },\n",
    "        'Email': {\n",
    "            'DataType': 'String',\n",
    "            'StringValue': 'aditya.sdrt@gmail.com'\n",
    "        },\n",
    "        'Location': {\n",
    "            'DataType': 'String',\n",
    "            'StringValue': 'manhattan'\n",
    "        },\n",
    "        'PeopleNumber': {\n",
    "            'DataType': 'String',\n",
    "            'StringValue': '3'\n",
    "        },\n",
    "        'PhoneNum': {\n",
    "            'DataType': 'String',\n",
    "            'StringValue': '1234142431'\n",
    "        },\n",
    "        'Time': {\n",
    "            'DataType': 'String',\n",
    "            'StringValue': '12:00'\n",
    "        }\n",
    "    },\n",
    "    MessageBody=str(uuid.uuid4())\n",
    ")"
   ]
  },
  {
   "cell_type": "code",
   "execution_count": 87,
   "id": "99011e1c",
   "metadata": {
    "scrolled": true
   },
   "outputs": [
    {
     "data": {
      "text/plain": [
       "{'MD5OfMessageBody': 'b29226db039848c99402b4e3c08d3e0a',\n",
       " 'MD5OfMessageAttributes': '2a2e03af774beecd68bdf50dc50a68a6',\n",
       " 'MessageId': '046fef87-b466-4706-b9af-d03f56644d96',\n",
       " 'ResponseMetadata': {'RequestId': 'd95de136-9c38-5550-b7b6-ba8ed88d9e71',\n",
       "  'HTTPStatusCode': 200,\n",
       "  'HTTPHeaders': {'x-amzn-requestid': 'd95de136-9c38-5550-b7b6-ba8ed88d9e71',\n",
       "   'date': 'Thu, 06 Oct 2022 02:50:30 GMT',\n",
       "   'content-type': 'text/xml',\n",
       "   'content-length': '459'},\n",
       "  'RetryAttempts': 0}}"
      ]
     },
     "execution_count": 87,
     "metadata": {},
     "output_type": "execute_result"
    }
   ],
   "source": [
    "response"
   ]
  }
 ],
 "metadata": {
  "kernelspec": {
   "display_name": "cloud",
   "language": "python",
   "name": "cloud"
  },
  "language_info": {
   "codemirror_mode": {
    "name": "ipython",
    "version": 3
   },
   "file_extension": ".py",
   "mimetype": "text/x-python",
   "name": "python",
   "nbconvert_exporter": "python",
   "pygments_lexer": "ipython3",
   "version": "3.6.9"
  }
 },
 "nbformat": 4,
 "nbformat_minor": 5
}
