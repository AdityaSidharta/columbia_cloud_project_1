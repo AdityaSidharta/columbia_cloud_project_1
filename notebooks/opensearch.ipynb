{
 "cells": [
  {
   "cell_type": "code",
   "execution_count": 73,
   "id": "c4035abc",
   "metadata": {},
   "outputs": [],
   "source": [
    "from opensearchpy import OpenSearch, RequestsHttpConnection, AWSV4SignerAuth\n",
    "import boto3\n",
    "import pandas as pd"
   ]
  },
  {
   "cell_type": "code",
   "execution_count": 74,
   "id": "48636ece",
   "metadata": {},
   "outputs": [],
   "source": [
    "host = 'search-project1-fcmtfzdorczceupsri4f5e376y.us-east-1.es.amazonaws.com' # cluster endpoint, for example: my-test-domain.us-east-1.es.amazonaws.com\n",
    "region = 'us-east-1' # e.g. us-west-1\n",
    "\n",
    "credentials = boto3.Session().get_credentials()\n",
    "auth = AWSV4SignerAuth(credentials, region)\n",
    "index_name = 'restaurant'"
   ]
  },
  {
   "cell_type": "code",
   "execution_count": 75,
   "id": "5c4d85f8",
   "metadata": {},
   "outputs": [],
   "source": [
    "client = OpenSearch(\n",
    "    hosts = [{'host': host, 'port': 443}],\n",
    "    http_auth = auth,\n",
    "    use_ssl = True,\n",
    "    verify_certs = True,\n",
    "    connection_class = RequestsHttpConnection\n",
    ")"
   ]
  },
  {
   "cell_type": "code",
   "execution_count": 5,
   "id": "20c0b75e",
   "metadata": {},
   "outputs": [
    {
     "name": "stdout",
     "output_type": "stream",
     "text": [
      "\n",
      "Creating index:\n",
      "{'acknowledged': True, 'shards_acknowledged': True, 'index': 'restaurant'}\n"
     ]
    }
   ],
   "source": [
    "response = client.indices.create(index_name)\n",
    "print('\\nCreating index:')\n",
    "print(response)"
   ]
  },
  {
   "cell_type": "code",
   "execution_count": 9,
   "id": "c469700e",
   "metadata": {},
   "outputs": [],
   "source": [
    "df = pd.read_csv('yelp.csv')"
   ]
  },
  {
   "cell_type": "code",
   "execution_count": 14,
   "id": "66f136e9",
   "metadata": {},
   "outputs": [],
   "source": [
    "i = 0\n",
    "for idx, row in df.iterrows():\n",
    "    document = {\n",
    "        'restaurant_id': row['id'],\n",
    "        'cuisine': row['query']\n",
    "    }\n",
    "\n",
    "    response = client.index(\n",
    "        index = index_name,\n",
    "        body = document,\n",
    "        id = i,\n",
    "        refresh = True\n",
    "    )\n",
    "    \n",
    "    i = i + 1"
   ]
  },
  {
   "cell_type": "code",
   "execution_count": 70,
   "id": "ef222a89",
   "metadata": {},
   "outputs": [],
   "source": [
    "q = 'chinese'\n",
    "query = {\n",
    "  'size': 3,\n",
    "  'query': {\n",
    "    'multi_match': {\n",
    "      'query': q,\n",
    "      'fields': ['cuisine']\n",
    "    }\n",
    "  }\n",
    "}\n"
   ]
  },
  {
   "cell_type": "code",
   "execution_count": 76,
   "id": "266d94d8",
   "metadata": {},
   "outputs": [],
   "source": [
    "response = client.search(\n",
    "    body = query,\n",
    "    index = index_name\n",
    ")"
   ]
  },
  {
   "cell_type": "code",
   "execution_count": 80,
   "id": "e4dc8494",
   "metadata": {},
   "outputs": [
    {
     "data": {
      "text/plain": [
       "['s25mujxKWphsyFm0Ji1xYA', 'LT0yyLNM84EiJj9DL0rfHA', 'WRRs3smfm6rHP5k4Slzr3w']"
      ]
     },
     "execution_count": 80,
     "metadata": {},
     "output_type": "execute_result"
    }
   ],
   "source": [
    "[hits['_source']['restaurant_id'] for hits in response['hits']['hits']]"
   ]
  },
  {
   "cell_type": "code",
   "execution_count": 32,
   "id": "38d14bd0",
   "metadata": {},
   "outputs": [
    {
     "name": "stdout",
     "output_type": "stream",
     "text": [
      "s25mujxKWphsyFm0Ji1xYA\n"
     ]
    }
   ],
   "source": [
    "if response['hits']:\n",
    "    print(response['hits']['hits'][0]['_source']['restaurant_id'])"
   ]
  },
  {
   "cell_type": "code",
   "execution_count": 2,
   "id": "9f78bead",
   "metadata": {},
   "outputs": [
    {
     "name": "stderr",
     "output_type": "stream",
     "text": [
      "/home/aditya/.pyenv/versions/cloud/lib/python3.6/site-packages/boto3/compat.py:88: PythonDeprecationWarning: Boto3 will no longer support Python 3.6 starting May 30, 2022. To continue receiving service updates, bug fixes, and security updates please upgrade to Python 3.7 or later. More information can be found here: https://aws.amazon.com/blogs/developer/python-support-policy-updates-for-aws-sdks-and-tools/\n",
      "  warnings.warn(warning, PythonDeprecationWarning)\n"
     ]
    }
   ],
   "source": [
    "import boto3\n",
    "\n",
    "dynamodb = boto3.client(\"dynamodb\")"
   ]
  },
  {
   "cell_type": "code",
   "execution_count": 3,
   "id": "48ebe258",
   "metadata": {},
   "outputs": [
    {
     "name": "stdout",
     "output_type": "stream",
     "text": [
      "{'location': {'S': 'manhattan'}, 'query': {'S': 'chinese food'}, 'rating': {'S': '3.0'}, 'zip_code': {'S': '10022'}, 'address': {'S': '324 E 57th St, New York, NY 10022'}, 'id': {'S': 's25mujxKWphsyFm0Ji1xYA'}, 'name': {'S': 'Mr Chow'}, 'review_count': {'S': '418'}, 'coordinates': {'S': '(40.7588502019644, -73.9643376320601)'}}\n"
     ]
    }
   ],
   "source": [
    "response = dynamodb.get_item(\n",
    "    TableName='cloud1-db',\n",
    "    Key={\n",
    "        'id': {'S': 's25mujxKWphsyFm0Ji1xYA'},\n",
    "    }\n",
    ")\n",
    "print(response['Item'])"
   ]
  },
  {
   "cell_type": "code",
   "execution_count": 4,
   "id": "ee4c6d13",
   "metadata": {},
   "outputs": [
    {
     "data": {
      "text/plain": [
       "'manhattan'"
      ]
     },
     "execution_count": 4,
     "metadata": {},
     "output_type": "execute_result"
    }
   ],
   "source": [
    "response['Item']['location']['S']"
   ]
  },
  {
   "cell_type": "code",
   "execution_count": 5,
   "id": "1fbb8a30",
   "metadata": {},
   "outputs": [],
   "source": [
    "location = response['Item']['location']['S']\n",
    "query = response['Item']['query']['S']\n",
    "rating = response['Item']['rating']['S']\n",
    "zip_code = response['Item']['zip_code']['S']\n",
    "name = response['Item']['name']['S']\n",
    "review_count = response['Item']['review_count']['S']\n",
    "coordinates = response['Item']['coordinates']['S']"
   ]
  },
  {
   "cell_type": "code",
   "execution_count": 7,
   "id": "378fd328",
   "metadata": {},
   "outputs": [
    {
     "data": {
      "text/plain": [
       "'418'"
      ]
     },
     "execution_count": 7,
     "metadata": {},
     "output_type": "execute_result"
    }
   ],
   "source": [
    "review_count"
   ]
  },
  {
   "cell_type": "code",
   "execution_count": 50,
   "id": "799477f1",
   "metadata": {},
   "outputs": [],
   "source": [
    "sns = boto3.client(\"sns\", \n",
    "                   region_name=\"us-east-1\")"
   ]
  },
  {
   "cell_type": "code",
   "execution_count": 17,
   "id": "b1692cf2",
   "metadata": {},
   "outputs": [],
   "source": [
    "response = sns.list_topics()\n",
    "topic_arn = response[\"Topics\"][0]['TopicArn']\n"
   ]
  },
  {
   "cell_type": "code",
   "execution_count": 40,
   "id": "2f231a65",
   "metadata": {},
   "outputs": [],
   "source": [
    "response = sns.subscribe(TopicArn=topic_arn, Protocol=\"email\", Endpoint=\"aditya.sdrt@gmail.com\")\n",
    "subscription_arn = response[\"SubscriptionArn\"]"
   ]
  },
  {
   "cell_type": "code",
   "execution_count": 41,
   "id": "241851ff",
   "metadata": {},
   "outputs": [
    {
     "data": {
      "text/plain": [
       "'pending confirmation'"
      ]
     },
     "execution_count": 41,
     "metadata": {},
     "output_type": "execute_result"
    }
   ],
   "source": [
    "subscription_arn"
   ]
  },
  {
   "cell_type": "code",
   "execution_count": 47,
   "id": "21493e4e",
   "metadata": {},
   "outputs": [],
   "source": [
    "response = sns.list_subscriptions()\n",
    "subscriptions = response[\"Subscriptions\"]"
   ]
  },
  {
   "cell_type": "code",
   "execution_count": 49,
   "id": "697cab4b",
   "metadata": {},
   "outputs": [
    {
     "data": {
      "text/plain": [
       "'d7b8b9cb-1f80-506d-8389-e272932bf6c7'"
      ]
     },
     "execution_count": 49,
     "metadata": {},
     "output_type": "execute_result"
    }
   ],
   "source": [
    "sns.publish(TopicArn='arn:aws:sns:us-east-1:139100004146:cloud1-sns', \n",
    "            Message=\"message text\", \n",
    "            Subject=\"subject used in emails only\")['MessageId']"
   ]
  },
  {
   "cell_type": "code",
   "execution_count": 43,
   "id": "0a5addcc",
   "metadata": {},
   "outputs": [
    {
     "data": {
      "text/plain": [
       "[{'SubscriptionArn': 'arn:aws:sns:us-east-1:139100004146:cloud1-sns:4fdf5b42-5e4b-4f4b-bf07-5802ed3dbfbd',\n",
       "  'Owner': '139100004146',\n",
       "  'Protocol': 'email',\n",
       "  'Endpoint': 'aditya.sdrt@gmail.com',\n",
       "  'TopicArn': 'arn:aws:sns:us-east-1:139100004146:cloud1-sns'},\n",
       " {'SubscriptionArn': 'PendingConfirmation',\n",
       "  'Owner': '139100004146',\n",
       "  'Protocol': 'email',\n",
       "  'Endpoint': 'user@server.com',\n",
       "  'TopicArn': 'arn:aws:sns:us-east-1:139100004146:cloud1-sns'}]"
      ]
     },
     "execution_count": 43,
     "metadata": {},
     "output_type": "execute_result"
    }
   ],
   "source": [
    "subscriptions"
   ]
  },
  {
   "cell_type": "code",
   "execution_count": 44,
   "id": "c9508b3a",
   "metadata": {},
   "outputs": [
    {
     "data": {
      "text/plain": [
       "[{'SubscriptionArn': 'arn:aws:sns:us-east-1:139100004146:cloud1-sns:4fdf5b42-5e4b-4f4b-bf07-5802ed3dbfbd',\n",
       "  'Owner': '139100004146',\n",
       "  'Protocol': 'email',\n",
       "  'Endpoint': 'aditya.sdrt@gmail.com',\n",
       "  'TopicArn': 'arn:aws:sns:us-east-1:139100004146:cloud1-sns'},\n",
       " {'SubscriptionArn': 'PendingConfirmation',\n",
       "  'Owner': '139100004146',\n",
       "  'Protocol': 'email',\n",
       "  'Endpoint': 'user@server.com',\n",
       "  'TopicArn': 'arn:aws:sns:us-east-1:139100004146:cloud1-sns'}]"
      ]
     },
     "execution_count": 44,
     "metadata": {},
     "output_type": "execute_result"
    }
   ],
   "source": [
    "subscriptions"
   ]
  },
  {
   "cell_type": "code",
   "execution_count": 103,
   "id": "1a2b309e",
   "metadata": {},
   "outputs": [],
   "source": [
    "import boto3\n",
    "\n",
    "sqs = boto3.resource('sqs')"
   ]
  },
  {
   "cell_type": "code",
   "execution_count": 104,
   "id": "563a3513",
   "metadata": {},
   "outputs": [],
   "source": [
    "queue = sqs.get_queue_by_name(QueueName='Proj1SQS')"
   ]
  },
  {
   "cell_type": "code",
   "execution_count": 105,
   "id": "93db3b90",
   "metadata": {},
   "outputs": [
    {
     "name": "stdout",
     "output_type": "stream",
     "text": [
      "None\n"
     ]
    }
   ],
   "source": [
    "for message in queue.receive_messages():\n",
    "    print(message.message_attributes)"
   ]
  }
 ],
 "metadata": {
  "kernelspec": {
   "display_name": "cloud",
   "language": "python",
   "name": "cloud"
  },
  "language_info": {
   "codemirror_mode": {
    "name": "ipython",
    "version": 3
   },
   "file_extension": ".py",
   "mimetype": "text/x-python",
   "name": "python",
   "nbconvert_exporter": "python",
   "pygments_lexer": "ipython3",
   "version": "3.6.9"
  }
 },
 "nbformat": 4,
 "nbformat_minor": 5
}
