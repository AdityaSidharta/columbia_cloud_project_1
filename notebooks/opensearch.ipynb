{
 "cells": [
  {
   "cell_type": "code",
   "execution_count": 73,
   "id": "c4035abc",
   "metadata": {},
   "outputs": [],
   "source": [
    "from opensearchpy import OpenSearch, RequestsHttpConnection, AWSV4SignerAuth\n",
    "import boto3\n",
    "import pandas as pd"
   ]
  },
  {
   "cell_type": "code",
   "execution_count": 74,
   "id": "48636ece",
   "metadata": {},
   "outputs": [],
   "source": [
    "host = 'search-project1-fcmtfzdorczceupsri4f5e376y.us-east-1.es.amazonaws.com' # cluster endpoint, for example: my-test-domain.us-east-1.es.amazonaws.com\n",
    "region = 'us-east-1' # e.g. us-west-1\n",
    "\n",
    "credentials = boto3.Session().get_credentials()\n",
    "auth = AWSV4SignerAuth(credentials, region)\n",
    "index_name = 'restaurant'"
   ]
  },
  {
   "cell_type": "code",
   "execution_count": 75,
   "id": "5c4d85f8",
   "metadata": {},
   "outputs": [],
   "source": [
    "client = OpenSearch(\n",
    "    hosts = [{'host': host, 'port': 443}],\n",
    "    http_auth = auth,\n",
    "    use_ssl = True,\n",
    "    verify_certs = True,\n",
    "    connection_class = RequestsHttpConnection\n",
    ")"
   ]
  },
  {
   "cell_type": "code",
   "execution_count": 5,
   "id": "20c0b75e",
   "metadata": {},
   "outputs": [
    {
     "name": "stdout",
     "output_type": "stream",
     "text": [
      "\n",
      "Creating index:\n",
      "{'acknowledged': True, 'shards_acknowledged': True, 'index': 'restaurant'}\n"
     ]
    }
   ],
   "source": [
    "response = client.indices.create(index_name)\n",
    "print('\\nCreating index:')\n",
    "print(response)"
   ]
  },
  {
   "cell_type": "code",
   "execution_count": 9,
   "id": "c469700e",
   "metadata": {},
   "outputs": [],
   "source": [
    "df = pd.read_csv('yelp.csv')"
   ]
  },
  {
   "cell_type": "code",
   "execution_count": 14,
   "id": "66f136e9",
   "metadata": {},
   "outputs": [],
   "source": [
    "i = 0\n",
    "for idx, row in df.iterrows():\n",
    "    document = {\n",
    "        'restaurant_id': row['id'],\n",
    "        'cuisine': row['query']\n",
    "    }\n",
    "\n",
    "    response = client.index(\n",
    "        index = index_name,\n",
    "        body = document,\n",
    "        id = i,\n",
    "        refresh = True\n",
    "    )\n",
    "    \n",
    "    i = i + 1"
   ]
  },
  {
   "cell_type": "code",
   "execution_count": 70,
   "id": "ef222a89",
   "metadata": {},
   "outputs": [],
   "source": [
    "q = 'chinese'\n",
    "query = {\n",
    "  'size': 3,\n",
    "  'query': {\n",
    "    'multi_match': {\n",
    "      'query': q,\n",
    "      'fields': ['cuisine']\n",
    "    }\n",
    "  }\n",
    "}\n"
   ]
  },
  {
   "cell_type": "code",
   "execution_count": 76,
   "id": "266d94d8",
   "metadata": {},
   "outputs": [],
   "source": [
    "response = client.search(\n",
    "    body = query,\n",
    "    index = index_name\n",
    ")"
   ]
  },
  {
   "cell_type": "code",
   "execution_count": 80,
   "id": "e4dc8494",
   "metadata": {},
   "outputs": [
    {
     "data": {
      "text/plain": [
       "['s25mujxKWphsyFm0Ji1xYA', 'LT0yyLNM84EiJj9DL0rfHA', 'WRRs3smfm6rHP5k4Slzr3w']"
      ]
     },
     "execution_count": 80,
     "metadata": {},
     "output_type": "execute_result"
    }
   ],
   "source": [
    "[hits['_source']['restaurant_id'] for hits in response['hits']['hits']]"
   ]
  },
  {
   "cell_type": "code",
   "execution_count": 32,
   "id": "38d14bd0",
   "metadata": {},
   "outputs": [
    {
     "name": "stdout",
     "output_type": "stream",
     "text": [
      "s25mujxKWphsyFm0Ji1xYA\n"
     ]
    }
   ],
   "source": [
    "if response['hits']:\n",
    "    print(response['hits']['hits'][0]['_source']['restaurant_id'])"
   ]
  },
  {
   "cell_type": "code",
   "execution_count": 2,
   "id": "9f78bead",
   "metadata": {},
   "outputs": [
    {
     "name": "stderr",
     "output_type": "stream",
     "text": [
      "/home/aditya/.pyenv/versions/cloud/lib/python3.6/site-packages/boto3/compat.py:88: PythonDeprecationWarning: Boto3 will no longer support Python 3.6 starting May 30, 2022. To continue receiving service updates, bug fixes, and security updates please upgrade to Python 3.7 or later. More information can be found here: https://aws.amazon.com/blogs/developer/python-support-policy-updates-for-aws-sdks-and-tools/\n",
      "  warnings.warn(warning, PythonDeprecationWarning)\n"
     ]
    }
   ],
   "source": [
    "import boto3\n",
    "\n",
    "dynamodb = boto3.client(\"dynamodb\")"
   ]
  },
  {
   "cell_type": "code",
   "execution_count": 3,
   "id": "48ebe258",
   "metadata": {},
   "outputs": [
    {
     "name": "stdout",
     "output_type": "stream",
     "text": [
      "{'location': {'S': 'manhattan'}, 'query': {'S': 'chinese food'}, 'rating': {'S': '3.0'}, 'zip_code': {'S': '10022'}, 'address': {'S': '324 E 57th St, New York, NY 10022'}, 'id': {'S': 's25mujxKWphsyFm0Ji1xYA'}, 'name': {'S': 'Mr Chow'}, 'review_count': {'S': '418'}, 'coordinates': {'S': '(40.7588502019644, -73.9643376320601)'}}\n"
     ]
    }
   ],
   "source": [
    "response = dynamodb.get_item(\n",
    "    TableName='cloud1-db',\n",
    "    Key={\n",
    "        'id': {'S': 's25mujxKWphsyFm0Ji1xYA'},\n",
    "    }\n",
    ")\n",
    "print(response['Item'])"
   ]
  },
  {
   "cell_type": "code",
   "execution_count": 4,
   "id": "ee4c6d13",
   "metadata": {},
   "outputs": [
    {
     "data": {
      "text/plain": [
       "'manhattan'"
      ]
     },
     "execution_count": 4,
     "metadata": {},
     "output_type": "execute_result"
    }
   ],
   "source": [
    "response['Item']['location']['S']"
   ]
  },
  {
   "cell_type": "code",
   "execution_count": 5,
   "id": "1fbb8a30",
   "metadata": {},
   "outputs": [],
   "source": [
    "location = response['Item']['location']['S']\n",
    "query = response['Item']['query']['S']\n",
    "rating = response['Item']['rating']['S']\n",
    "zip_code = response['Item']['zip_code']['S']\n",
    "name = response['Item']['name']['S']\n",
    "review_count = response['Item']['review_count']['S']\n",
    "coordinates = response['Item']['coordinates']['S']"
   ]
  },
  {
   "cell_type": "code",
   "execution_count": 7,
   "id": "378fd328",
   "metadata": {},
   "outputs": [
    {
     "data": {
      "text/plain": [
       "'418'"
      ]
     },
     "execution_count": 7,
     "metadata": {},
     "output_type": "execute_result"
    }
   ],
   "source": [
    "review_count"
   ]
  },
  {
   "cell_type": "code",
   "execution_count": 50,
   "id": "799477f1",
   "metadata": {},
   "outputs": [],
   "source": [
    "sns = boto3.client(\"sns\", \n",
    "                   region_name=\"us-east-1\")"
   ]
  },
  {
   "cell_type": "code",
   "execution_count": 17,
   "id": "b1692cf2",
   "metadata": {},
   "outputs": [],
   "source": [
    "response = sns.list_topics()\n",
    "topic_arn = response[\"Topics\"][0]['TopicArn']\n"
   ]
  },
  {
   "cell_type": "code",
   "execution_count": 40,
   "id": "2f231a65",
   "metadata": {},
   "outputs": [],
   "source": [
    "response = sns.subscribe(TopicArn=topic_arn, Protocol=\"email\", Endpoint=\"aditya.sdrt@gmail.com\")\n",
    "subscription_arn = response[\"SubscriptionArn\"]"
   ]
  },
  {
   "cell_type": "code",
   "execution_count": 41,
   "id": "241851ff",
   "metadata": {},
   "outputs": [
    {
     "data": {
      "text/plain": [
       "'pending confirmation'"
      ]
     },
     "execution_count": 41,
     "metadata": {},
     "output_type": "execute_result"
    }
   ],
   "source": [
    "subscription_arn"
   ]
  },
  {
   "cell_type": "code",
   "execution_count": 47,
   "id": "21493e4e",
   "metadata": {},
   "outputs": [],
   "source": [
    "response = sns.list_subscriptions()\n",
    "subscriptions = response[\"Subscriptions\"]"
   ]
  },
  {
   "cell_type": "code",
   "execution_count": 49,
   "id": "697cab4b",
   "metadata": {},
   "outputs": [
    {
     "data": {
      "text/plain": [
       "'d7b8b9cb-1f80-506d-8389-e272932bf6c7'"
      ]
     },
     "execution_count": 49,
     "metadata": {},
     "output_type": "execute_result"
    }
   ],
   "source": [
    "sns.publish(TopicArn='arn:aws:sns:us-east-1:139100004146:cloud1-sns', \n",
    "            Message=\"message text\", \n",
    "            Subject=\"subject used in emails only\")['MessageId']"
   ]
  },
  {
   "cell_type": "code",
   "execution_count": 43,
   "id": "0a5addcc",
   "metadata": {},
   "outputs": [
    {
     "data": {
      "text/plain": [
       "[{'SubscriptionArn': 'arn:aws:sns:us-east-1:139100004146:cloud1-sns:4fdf5b42-5e4b-4f4b-bf07-5802ed3dbfbd',\n",
       "  'Owner': '139100004146',\n",
       "  'Protocol': 'email',\n",
       "  'Endpoint': 'aditya.sdrt@gmail.com',\n",
       "  'TopicArn': 'arn:aws:sns:us-east-1:139100004146:cloud1-sns'},\n",
       " {'SubscriptionArn': 'PendingConfirmation',\n",
       "  'Owner': '139100004146',\n",
       "  'Protocol': 'email',\n",
       "  'Endpoint': 'user@server.com',\n",
       "  'TopicArn': 'arn:aws:sns:us-east-1:139100004146:cloud1-sns'}]"
      ]
     },
     "execution_count": 43,
     "metadata": {},
     "output_type": "execute_result"
    }
   ],
   "source": [
    "subscriptions"
   ]
  },
  {
   "cell_type": "code",
   "execution_count": 44,
   "id": "c9508b3a",
   "metadata": {},
   "outputs": [
    {
     "data": {
      "text/plain": [
       "[{'SubscriptionArn': 'arn:aws:sns:us-east-1:139100004146:cloud1-sns:4fdf5b42-5e4b-4f4b-bf07-5802ed3dbfbd',\n",
       "  'Owner': '139100004146',\n",
       "  'Protocol': 'email',\n",
       "  'Endpoint': 'aditya.sdrt@gmail.com',\n",
       "  'TopicArn': 'arn:aws:sns:us-east-1:139100004146:cloud1-sns'},\n",
       " {'SubscriptionArn': 'PendingConfirmation',\n",
       "  'Owner': '139100004146',\n",
       "  'Protocol': 'email',\n",
       "  'Endpoint': 'user@server.com',\n",
       "  'TopicArn': 'arn:aws:sns:us-east-1:139100004146:cloud1-sns'}]"
      ]
     },
     "execution_count": 44,
     "metadata": {},
     "output_type": "execute_result"
    }
   ],
   "source": [
    "subscriptions"
   ]
  },
  {
   "cell_type": "code",
   "execution_count": 103,
   "id": "1a2b309e",
   "metadata": {},
   "outputs": [],
   "source": [
    "import boto3\n",
    "\n",
    "sqs = boto3.resource('sqs')"
   ]
  },
  {
   "cell_type": "code",
   "execution_count": 104,
   "id": "563a3513",
   "metadata": {},
   "outputs": [],
   "source": [
    "queue = sqs.get_queue_by_name(QueueName='Proj1SQS')"
   ]
  },
  {
   "cell_type": "code",
   "execution_count": 105,
   "id": "93db3b90",
   "metadata": {},
   "outputs": [
    {
     "name": "stdout",
     "output_type": "stream",
     "text": [
      "None\n"
     ]
    }
   ],
   "source": [
    "for message in queue.receive_messages():\n",
    "    print(message.message_attributes)"
   ]
  },
  {
   "cell_type": "code",
   "execution_count": 69,
   "id": "3c1fab7a",
   "metadata": {},
   "outputs": [],
   "source": []
  },
  {
   "cell_type": "code",
   "execution_count": 4,
   "id": "0d6158d5",
   "metadata": {},
   "outputs": [],
   "source": [
    "from opensearchpy import OpenSearch, RequestsHttpConnection, AWSV4SignerAuth\n",
    "import boto3\n",
    "import pandas as pd\n",
    "import time\n",
    "\n",
    "opensearch_host = 'search-project1-fcmtfzdorczceupsri4f5e376y.us-east-1.es.amazonaws.com'\n",
    "region = 'us-east-1'\n",
    "port = 443\n",
    "index_name = 'restaurant'\n",
    "queue_name = 'Proj1SQS'\n",
    "size = 3\n",
    "max_timeout = 60\n",
    "sleep_time = 10"
   ]
  },
  {
   "cell_type": "code",
   "execution_count": 59,
   "id": "ebf1f1fc",
   "metadata": {},
   "outputs": [],
   "source": [
    "def lambda_handler(event, context):\n",
    "    sqs = boto3.resource('sqs')\n",
    "    queue = sqs.get_queue_by_name(QueueName=queue_name)\n",
    "    messages = queue.receive_messages(MessageAttributeNames=['All'])\n",
    "    if len(messages):\n",
    "        for message in messages:\n",
    "            print(\"Processing message {}\".format(message.message_id))\n",
    "\n",
    "            cuisine = message.message_attributes.get('Cuisine').get('StringValue')\n",
    "            date = message.message_attributes.get('Date').get('StringValue')\n",
    "            email = message.message_attributes.get('Email').get('StringValue')\n",
    "            people_number = message.message_attributes.get('PeopleNumber').get('StringValue')\n",
    "            booking_time = message.message_attributes.get('Time').get('StringValue')\n",
    "\n",
    "            print(\"Receiving message from SQS - Cuisine : {}, Date : {}, Email : {}, People Number : {}, Booking Time : {}\".format(\n",
    "                cuisine,\n",
    "                date,\n",
    "                email,\n",
    "                people_number,\n",
    "                booking_time\n",
    "            ))\n",
    "\n",
    "            credentials = boto3.Session().get_credentials()\n",
    "            auth = AWSV4SignerAuth(credentials, region)\n",
    "            opensearch = OpenSearch(\n",
    "                hosts = [{'host': opensearch_host, 'port': port}],\n",
    "                http_auth = auth,\n",
    "                use_ssl = True,\n",
    "                verify_certs = True,\n",
    "                connection_class = RequestsHttpConnection\n",
    "            )\n",
    "\n",
    "            query = {\n",
    "            'size': size,\n",
    "            'query': {\n",
    "                'multi_match': {\n",
    "                'query': cuisine,\n",
    "                'fields': ['cuisine']\n",
    "                }\n",
    "            }\n",
    "            }\n",
    "\n",
    "            response = opensearch.search(\n",
    "                body = query,\n",
    "                index = index_name\n",
    "            )\n",
    "\n",
    "            if response['hits']:\n",
    "                restaurant_ids = [hits['_source']['restaurant_id'] for hits in response['hits']['hits']]\n",
    "                print(\"Receiving restaurant_ids from OpenSearch : {}\".format(restaurant_ids))\n",
    "            else:\n",
    "                raise ValueError(\"Open Search Failed\")\n",
    "\n",
    "            dynamodb = boto3.client(\"dynamodb\")\n",
    "\n",
    "            locations = []\n",
    "            names = []\n",
    "\n",
    "            assert len(restaurant_ids)\n",
    "\n",
    "            for restaurant_id in restaurant_ids:\n",
    "\n",
    "                response = dynamodb.get_item(\n",
    "                    TableName='cloud1-db',\n",
    "                    Key={\n",
    "                        'id': {'S': restaurant_id},\n",
    "                    }\n",
    "                )\n",
    "\n",
    "                try:\n",
    "                    location = response['Item']['location']['S']\n",
    "                    name = response['Item']['name']['S']\n",
    "                    locations.append(location)\n",
    "                    names.append(name)\n",
    "                    print(\"restaurant_id : {}\".format(restaurant_id))\n",
    "                    print(\"name : {}\".format(name))\n",
    "                    print(\"location : {}\".format(location))\n",
    "                except:\n",
    "                    raise ValueError(\"DynamoDB Failed\")\n",
    "\n",
    "            sns = boto3.client(\"sns\")\n",
    "            response = sns.list_topics()\n",
    "            topic_arn = response[\"Topics\"][0]['TopicArn']\n",
    "            print(\"Subscribing email : {}\".format(email))\n",
    "            response = sns.subscribe(TopicArn=topic_arn, Protocol=\"email\", Endpoint=email)\n",
    "            subscription_arn = response[\"SubscriptionArn\"]\n",
    "\n",
    "            timeout = 0\n",
    "            while subscription_arn == 'pending confirmation':\n",
    "                if timeout == max_timeout:\n",
    "                    raise ValueError(\"Email is not confirmed : {}. subscription_arn : {}\".format(email, subscription_arn))\n",
    "                else:\n",
    "                    print(\"Email {} has not been confirmed. subscription_arn : {}. Sleeping...\".format(email, subscription_arn))\n",
    "                    time.sleep(sleep_time)\n",
    "                    timeout = timeout + 1\n",
    "                    subscription_arn = [x['SubscriptionArn'] for x in sns.list_subscriptions()['Subscriptions'] if x['Endpoint'] == email][0]\n",
    "\n",
    "            print(\"email {} subscription_arn has been confirmed : {}\".format(email, subscription_arn))\n",
    "\n",
    "            subject = \"Message from DiningConcierge\"\n",
    "            message_body = \"\"\"Hello! Here are my {cuisine} restaurant suggestions for {people_number} people, for {date} at {booking_time}: 1. {name0}, located at {location0}, 2. {name1}, located at {location1}, 3. {name2}, located at {location2}. Enjoy your meal!\"\"\".format(\n",
    "                cuisine= cuisine,\n",
    "                people_number= people_number,\n",
    "                date= date,\n",
    "                booking_time= booking_time,\n",
    "                name0= names[0],\n",
    "                location0= locations[0],\n",
    "                name1= names[1],\n",
    "                location1= locations[1],\n",
    "                name2= names[2],\n",
    "                location2= locations[2]\n",
    "            )\n",
    "\n",
    "            message_id = sns.publish(TopicArn=topic_arn, \n",
    "                    Message=message_body, \n",
    "                    Subject=subject)['MessageId']\n",
    "            print(\"Message has been sent to {}\".format(email))\n",
    "            message.delete()\n",
    "            print(\"Message has been deleted from SQS\")\n",
    "\n",
    "            return {\n",
    "                'cuisine' : cuisine,\n",
    "                'date' : date,\n",
    "                'email' : email,\n",
    "                'people_number' : people_number,\n",
    "                'booking_time' : booking_time,\n",
    "                'restaurant_ids': restaurant_ids,\n",
    "                'names': names,\n",
    "                'locations': locations,\n",
    "                'subject': subject,\n",
    "                'message': message,\n",
    "                'message_id': message_id\n",
    "            }\n",
    "    else:\n",
    "        print(\"No messages found!\")"
   ]
  },
  {
   "cell_type": "code",
   "execution_count": 60,
   "id": "0b6c6f42",
   "metadata": {
    "scrolled": true
   },
   "outputs": [],
   "source": [
    "lambda_handler(\"\", \"\")"
   ]
  },
  {
   "cell_type": "code",
   "execution_count": null,
   "id": "6b853a3f",
   "metadata": {},
   "outputs": [],
   "source": []
  },
  {
   "cell_type": "code",
   "execution_count": null,
   "id": "a0d1cca7",
   "metadata": {},
   "outputs": [],
   "source": []
  },
  {
   "cell_type": "code",
   "execution_count": 90,
   "id": "48749281",
   "metadata": {},
   "outputs": [
    {
     "name": "stdout",
     "output_type": "stream",
     "text": [
      "> \u001b[0;32m<ipython-input-88-aba58247ff65>\u001b[0m(5)\u001b[0;36mlambda_handler\u001b[0;34m()\u001b[0m\n",
      "\u001b[0;32m      3 \u001b[0;31m    \u001b[0mqueue\u001b[0m \u001b[0;34m=\u001b[0m \u001b[0msqs\u001b[0m\u001b[0;34m.\u001b[0m\u001b[0mget_queue_by_name\u001b[0m\u001b[0;34m(\u001b[0m\u001b[0mQueueName\u001b[0m\u001b[0;34m=\u001b[0m\u001b[0mqueue_name\u001b[0m\u001b[0;34m)\u001b[0m\u001b[0;34m\u001b[0m\u001b[0;34m\u001b[0m\u001b[0m\n",
      "\u001b[0m\u001b[0;32m      4 \u001b[0;31m    \u001b[0;32mfor\u001b[0m \u001b[0mmessage\u001b[0m \u001b[0;32min\u001b[0m \u001b[0mqueue\u001b[0m\u001b[0;34m.\u001b[0m\u001b[0mreceive_messages\u001b[0m\u001b[0;34m(\u001b[0m\u001b[0;34m)\u001b[0m\u001b[0;34m:\u001b[0m\u001b[0;34m\u001b[0m\u001b[0;34m\u001b[0m\u001b[0m\n",
      "\u001b[0m\u001b[0;32m----> 5 \u001b[0;31m        \u001b[0mcuisine\u001b[0m \u001b[0;34m=\u001b[0m \u001b[0mmessage\u001b[0m\u001b[0;34m.\u001b[0m\u001b[0mmessage_attributes\u001b[0m\u001b[0;34m.\u001b[0m\u001b[0mget\u001b[0m\u001b[0;34m(\u001b[0m\u001b[0;34m'Cuisine'\u001b[0m\u001b[0;34m)\u001b[0m\u001b[0;34m.\u001b[0m\u001b[0mget\u001b[0m\u001b[0;34m(\u001b[0m\u001b[0;34m'StringValue'\u001b[0m\u001b[0;34m)\u001b[0m\u001b[0;34m\u001b[0m\u001b[0;34m\u001b[0m\u001b[0m\n",
      "\u001b[0m\u001b[0;32m      6 \u001b[0;31m        \u001b[0mdate\u001b[0m \u001b[0;34m=\u001b[0m \u001b[0mmessage\u001b[0m\u001b[0;34m.\u001b[0m\u001b[0mmessage_attributes\u001b[0m\u001b[0;34m.\u001b[0m\u001b[0mget\u001b[0m\u001b[0;34m(\u001b[0m\u001b[0;34m'Date'\u001b[0m\u001b[0;34m)\u001b[0m\u001b[0;34m.\u001b[0m\u001b[0mget\u001b[0m\u001b[0;34m(\u001b[0m\u001b[0;34m'StringValue'\u001b[0m\u001b[0;34m)\u001b[0m\u001b[0;34m\u001b[0m\u001b[0;34m\u001b[0m\u001b[0m\n",
      "\u001b[0m\u001b[0;32m      7 \u001b[0;31m        \u001b[0memail\u001b[0m \u001b[0;34m=\u001b[0m \u001b[0mmessage\u001b[0m\u001b[0;34m.\u001b[0m\u001b[0mmessage_attributes\u001b[0m\u001b[0;34m.\u001b[0m\u001b[0mget\u001b[0m\u001b[0;34m(\u001b[0m\u001b[0;34m'Email'\u001b[0m\u001b[0;34m)\u001b[0m\u001b[0;34m.\u001b[0m\u001b[0mget\u001b[0m\u001b[0;34m(\u001b[0m\u001b[0;34m'StringValue'\u001b[0m\u001b[0;34m)\u001b[0m\u001b[0;34m\u001b[0m\u001b[0;34m\u001b[0m\u001b[0m\n",
      "\u001b[0m\n",
      "ipdb> message\n",
      "sqs.Message(queue_url='https://queue.amazonaws.com/139100004146/Proj1SQS', receipt_handle='AQEBT1mAudzAB2Fhi8i+W2dARhrfhtAtRk4FDTTo4gVc34tS+LEMF/b2uN6w68l5V7Cg3tpnLpzlC8om2tXusIllRLgL6pFl9ufMu2TwpjZsZ4ZpHGd725lZ3UQ3qoDaJoNlRluF5N31BW/xabSqzN2ZA6D+YxELfTGxypCTA8ucJmzE7xe3gTDETLdF3k923vjP6uvP40phkS56qFa/+ixh9NavuSy5T/Bi2Ad3UjeGpi83z6JxeEDDhYxUsv2EW1+91ySULuESck6sur2Xa5AXeL0d1WxkOYcDAjsKoVRX/dNnBPQUZZcAUPE3xba6eIpnD6YqC6Imz9I8NfqXGAt9fhgSZeWDJwuiSoKPz5lqhsKrvaWHxNfcn4icJ/TKRzaf')\n",
      "ipdb> q\n"
     ]
    }
   ],
   "source": [
    "%debug"
   ]
  },
  {
   "cell_type": "code",
   "execution_count": 92,
   "id": "d38a8690",
   "metadata": {},
   "outputs": [],
   "source": [
    "message.message_attributes"
   ]
  },
  {
   "cell_type": "code",
   "execution_count": null,
   "id": "a5519f8f",
   "metadata": {},
   "outputs": [],
   "source": []
  }
 ],
 "metadata": {
  "kernelspec": {
   "display_name": "cloud",
   "language": "python",
   "name": "cloud"
  },
  "language_info": {
   "codemirror_mode": {
    "name": "ipython",
    "version": 3
   },
   "file_extension": ".py",
   "mimetype": "text/x-python",
   "name": "python",
   "nbconvert_exporter": "python",
   "pygments_lexer": "ipython3",
   "version": "3.6.9"
  }
 },
 "nbformat": 4,
 "nbformat_minor": 5
}
